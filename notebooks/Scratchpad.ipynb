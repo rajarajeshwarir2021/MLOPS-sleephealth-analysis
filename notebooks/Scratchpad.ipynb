{
 "cells": [
  {
   "cell_type": "code",
   "execution_count": 2,
   "id": "4434bb86-ce83-48cd-9b2f-2fbaaf0456b6",
   "metadata": {
    "tags": []
   },
   "outputs": [],
   "source": [
    "import joblib\n",
    "import pandas as pd\n",
    "from sklearn.preprocessing import LabelEncoder"
   ]
  },
  {
   "cell_type": "markdown",
   "id": "f830e550-384d-4b54-9c42-fcf3193a76a9",
   "metadata": {},
   "source": [
    "#### Create a dataframe for prediction"
   ]
  },
  {
   "cell_type": "code",
   "execution_count": 2,
   "id": "2f0d22ca-5d31-4def-be3d-03529ea58064",
   "metadata": {
    "tags": []
   },
   "outputs": [],
   "source": [
    "data = ['Male', '27', 'Doctor', '5.8', '3', 'Normal', '65', '3000', '115', '75']"
   ]
  },
  {
   "cell_type": "code",
   "execution_count": 4,
   "id": "de3cf266-b737-4a5d-8fc7-465eb59ef3d9",
   "metadata": {
    "tags": []
   },
   "outputs": [],
   "source": [
    "array_data = [data]"
   ]
  },
  {
   "cell_type": "code",
   "execution_count": 6,
   "id": "befa3a05-19dc-4c3d-9525-8bc9382647dc",
   "metadata": {
    "tags": []
   },
   "outputs": [],
   "source": [
    "headers = ['Gender', 'Age', 'Occupation', 'Sleep_Duration', 'Stress_Level', 'BMI_Category', 'Heart_Rate', 'Daily_Steps', 'Blood_Pressure_High', 'Blood_Pressure_Low']"
   ]
  },
  {
   "cell_type": "code",
   "execution_count": 7,
   "id": "54e86802-06c1-4490-8915-05aacdd36022",
   "metadata": {
    "tags": []
   },
   "outputs": [],
   "source": [
    "df = pd.DataFrame(array_data, columns=headers)"
   ]
  },
  {
   "cell_type": "code",
   "execution_count": 8,
   "id": "252b9147-2586-42b3-8a99-9fc236e02d46",
   "metadata": {
    "tags": []
   },
   "outputs": [
    {
     "data": {
      "text/html": [
       "<div>\n",
       "<style scoped>\n",
       "    .dataframe tbody tr th:only-of-type {\n",
       "        vertical-align: middle;\n",
       "    }\n",
       "\n",
       "    .dataframe tbody tr th {\n",
       "        vertical-align: top;\n",
       "    }\n",
       "\n",
       "    .dataframe thead th {\n",
       "        text-align: right;\n",
       "    }\n",
       "</style>\n",
       "<table border=\"1\" class=\"dataframe\">\n",
       "  <thead>\n",
       "    <tr style=\"text-align: right;\">\n",
       "      <th></th>\n",
       "      <th>Gender</th>\n",
       "      <th>Age</th>\n",
       "      <th>Occupation</th>\n",
       "      <th>Sleep_Duration</th>\n",
       "      <th>Stress_Level</th>\n",
       "      <th>BMI_Category</th>\n",
       "      <th>Heart_Rate</th>\n",
       "      <th>Daily_Steps</th>\n",
       "      <th>Blood_Pressure_High</th>\n",
       "      <th>Blood_Pressure_Low</th>\n",
       "    </tr>\n",
       "  </thead>\n",
       "  <tbody>\n",
       "    <tr>\n",
       "      <th>0</th>\n",
       "      <td>Male</td>\n",
       "      <td>27</td>\n",
       "      <td>Doctor</td>\n",
       "      <td>5.8</td>\n",
       "      <td>3</td>\n",
       "      <td>Normal</td>\n",
       "      <td>65</td>\n",
       "      <td>3000</td>\n",
       "      <td>115</td>\n",
       "      <td>75</td>\n",
       "    </tr>\n",
       "  </tbody>\n",
       "</table>\n",
       "</div>"
      ],
      "text/plain": [
       "  Gender Age Occupation Sleep_Duration Stress_Level BMI_Category Heart_Rate  \\\n",
       "0   Male  27     Doctor            5.8            3       Normal         65   \n",
       "\n",
       "  Daily_Steps Blood_Pressure_High Blood_Pressure_Low  \n",
       "0        3000                 115                 75  "
      ]
     },
     "execution_count": 8,
     "metadata": {},
     "output_type": "execute_result"
    }
   ],
   "source": [
    "df"
   ]
  },
  {
   "cell_type": "markdown",
   "id": "3d7a5566-bfe8-4b20-ae60-3b94aae1b35a",
   "metadata": {},
   "source": [
    "#### Label encoder Gender, Occupation and BMI_Category columns"
   ]
  },
  {
   "cell_type": "code",
   "execution_count": 9,
   "id": "5a8eee4c-1bbd-4009-a0f4-c0ea766b213d",
   "metadata": {
    "tags": []
   },
   "outputs": [
    {
     "data": {
      "text/html": [
       "<div>\n",
       "<style scoped>\n",
       "    .dataframe tbody tr th:only-of-type {\n",
       "        vertical-align: middle;\n",
       "    }\n",
       "\n",
       "    .dataframe tbody tr th {\n",
       "        vertical-align: top;\n",
       "    }\n",
       "\n",
       "    .dataframe thead th {\n",
       "        text-align: right;\n",
       "    }\n",
       "</style>\n",
       "<table border=\"1\" class=\"dataframe\">\n",
       "  <thead>\n",
       "    <tr style=\"text-align: right;\">\n",
       "      <th></th>\n",
       "      <th>Gender</th>\n",
       "      <th>Age</th>\n",
       "      <th>Occupation</th>\n",
       "      <th>Sleep_Duration</th>\n",
       "      <th>Stress_Level</th>\n",
       "      <th>BMI_Category</th>\n",
       "      <th>Heart_Rate</th>\n",
       "      <th>Daily_Steps</th>\n",
       "      <th>Blood_Pressure_High</th>\n",
       "      <th>Blood_Pressure_Low</th>\n",
       "    </tr>\n",
       "  </thead>\n",
       "  <tbody>\n",
       "    <tr>\n",
       "      <th>0</th>\n",
       "      <td>1</td>\n",
       "      <td>27</td>\n",
       "      <td>Doctor</td>\n",
       "      <td>5.8</td>\n",
       "      <td>3</td>\n",
       "      <td>Normal</td>\n",
       "      <td>65</td>\n",
       "      <td>3000</td>\n",
       "      <td>115</td>\n",
       "      <td>75</td>\n",
       "    </tr>\n",
       "  </tbody>\n",
       "</table>\n",
       "</div>"
      ],
      "text/plain": [
       "   Gender Age Occupation Sleep_Duration Stress_Level BMI_Category Heart_Rate  \\\n",
       "0       1  27     Doctor            5.8            3       Normal         65   \n",
       "\n",
       "  Daily_Steps Blood_Pressure_High Blood_Pressure_Low  \n",
       "0        3000                 115                 75  "
      ]
     },
     "execution_count": 9,
     "metadata": {},
     "output_type": "execute_result"
    }
   ],
   "source": [
    "le = LabelEncoder()    \n",
    "\n",
    "# load the encoder\n",
    "le = joblib.load('Gender_LabelEncoder.joblib')\n",
    "\n",
    "df['Gender'] = le.transform(df['Gender'])\n",
    "df"
   ]
  },
  {
   "cell_type": "code",
   "execution_count": 10,
   "id": "cdb5713d-23bd-4b50-9101-c5fa2fe60fd8",
   "metadata": {
    "tags": []
   },
   "outputs": [
    {
     "data": {
      "text/html": [
       "<div>\n",
       "<style scoped>\n",
       "    .dataframe tbody tr th:only-of-type {\n",
       "        vertical-align: middle;\n",
       "    }\n",
       "\n",
       "    .dataframe tbody tr th {\n",
       "        vertical-align: top;\n",
       "    }\n",
       "\n",
       "    .dataframe thead th {\n",
       "        text-align: right;\n",
       "    }\n",
       "</style>\n",
       "<table border=\"1\" class=\"dataframe\">\n",
       "  <thead>\n",
       "    <tr style=\"text-align: right;\">\n",
       "      <th></th>\n",
       "      <th>Gender</th>\n",
       "      <th>Age</th>\n",
       "      <th>Occupation</th>\n",
       "      <th>Sleep_Duration</th>\n",
       "      <th>Stress_Level</th>\n",
       "      <th>BMI_Category</th>\n",
       "      <th>Heart_Rate</th>\n",
       "      <th>Daily_Steps</th>\n",
       "      <th>Blood_Pressure_High</th>\n",
       "      <th>Blood_Pressure_Low</th>\n",
       "    </tr>\n",
       "  </thead>\n",
       "  <tbody>\n",
       "    <tr>\n",
       "      <th>0</th>\n",
       "      <td>1</td>\n",
       "      <td>27</td>\n",
       "      <td>1</td>\n",
       "      <td>5.8</td>\n",
       "      <td>3</td>\n",
       "      <td>Normal</td>\n",
       "      <td>65</td>\n",
       "      <td>3000</td>\n",
       "      <td>115</td>\n",
       "      <td>75</td>\n",
       "    </tr>\n",
       "  </tbody>\n",
       "</table>\n",
       "</div>"
      ],
      "text/plain": [
       "   Gender Age  Occupation Sleep_Duration Stress_Level BMI_Category Heart_Rate  \\\n",
       "0       1  27           1            5.8            3       Normal         65   \n",
       "\n",
       "  Daily_Steps Blood_Pressure_High Blood_Pressure_Low  \n",
       "0        3000                 115                 75  "
      ]
     },
     "execution_count": 10,
     "metadata": {},
     "output_type": "execute_result"
    }
   ],
   "source": [
    "le = LabelEncoder()    \n",
    "\n",
    "# load the encoder\n",
    "le = joblib.load('Occupation_LabelEncoder.joblib')\n",
    "\n",
    "df['Occupation'] = le.transform(df['Occupation'])\n",
    "df"
   ]
  },
  {
   "cell_type": "code",
   "execution_count": 11,
   "id": "c98de477-4f90-4fe7-aa11-7c5b8372a2cf",
   "metadata": {
    "tags": []
   },
   "outputs": [
    {
     "data": {
      "text/html": [
       "<div>\n",
       "<style scoped>\n",
       "    .dataframe tbody tr th:only-of-type {\n",
       "        vertical-align: middle;\n",
       "    }\n",
       "\n",
       "    .dataframe tbody tr th {\n",
       "        vertical-align: top;\n",
       "    }\n",
       "\n",
       "    .dataframe thead th {\n",
       "        text-align: right;\n",
       "    }\n",
       "</style>\n",
       "<table border=\"1\" class=\"dataframe\">\n",
       "  <thead>\n",
       "    <tr style=\"text-align: right;\">\n",
       "      <th></th>\n",
       "      <th>Gender</th>\n",
       "      <th>Age</th>\n",
       "      <th>Occupation</th>\n",
       "      <th>Sleep_Duration</th>\n",
       "      <th>Stress_Level</th>\n",
       "      <th>BMI_Category</th>\n",
       "      <th>Heart_Rate</th>\n",
       "      <th>Daily_Steps</th>\n",
       "      <th>Blood_Pressure_High</th>\n",
       "      <th>Blood_Pressure_Low</th>\n",
       "    </tr>\n",
       "  </thead>\n",
       "  <tbody>\n",
       "    <tr>\n",
       "      <th>0</th>\n",
       "      <td>1</td>\n",
       "      <td>27</td>\n",
       "      <td>1</td>\n",
       "      <td>5.8</td>\n",
       "      <td>3</td>\n",
       "      <td>0</td>\n",
       "      <td>65</td>\n",
       "      <td>3000</td>\n",
       "      <td>115</td>\n",
       "      <td>75</td>\n",
       "    </tr>\n",
       "  </tbody>\n",
       "</table>\n",
       "</div>"
      ],
      "text/plain": [
       "   Gender Age  Occupation Sleep_Duration Stress_Level  BMI_Category  \\\n",
       "0       1  27           1            5.8            3             0   \n",
       "\n",
       "  Heart_Rate Daily_Steps Blood_Pressure_High Blood_Pressure_Low  \n",
       "0         65        3000                 115                 75  "
      ]
     },
     "execution_count": 11,
     "metadata": {},
     "output_type": "execute_result"
    }
   ],
   "source": [
    "le = LabelEncoder()    \n",
    "\n",
    "# load the encoder\n",
    "le = joblib.load('BMI_Category_LabelEncoder.joblib')\n",
    "\n",
    "df['BMI_Category'] = le.transform(df['BMI_Category'])\n",
    "df"
   ]
  },
  {
   "cell_type": "markdown",
   "id": "c89c8b2a-2130-4f18-8f75-edd5c5cb9a6a",
   "metadata": {},
   "source": [
    "#### Label decode the prediction output"
   ]
  },
  {
   "cell_type": "code",
   "execution_count": 3,
   "id": "0569ba76-be6e-44ef-9aac-cf9f62285ec4",
   "metadata": {
    "tags": []
   },
   "outputs": [],
   "source": [
    "import joblib\n",
    "import pandas as pd\n",
    "from sklearn.preprocessing import LabelEncoder"
   ]
  },
  {
   "cell_type": "code",
   "execution_count": 5,
   "id": "4554da29-75ef-45b8-9f19-033fca77f5cf",
   "metadata": {},
   "outputs": [
    {
     "data": {
      "text/plain": [
       "'Insomnia'"
      ]
     },
     "execution_count": 5,
     "metadata": {},
     "output_type": "execute_result"
    }
   ],
   "source": [
    "output_data = [0]\n",
    "\n",
    "label_encoder = joblib.load('Sleep_Disorder_LabelEncoder.joblib')\n",
    "label = label_encoder.inverse_transform(output_data)\n",
    "label[0]"
   ]
  },
  {
   "cell_type": "code",
   "execution_count": null,
   "id": "123b0925-565b-400d-b284-ccac80872a90",
   "metadata": {},
   "outputs": [],
   "source": []
  }
 ],
 "metadata": {
  "kernelspec": {
   "display_name": "Python 3 (ipykernel)",
   "language": "python",
   "name": "python3"
  },
  "language_info": {
   "codemirror_mode": {
    "name": "ipython",
    "version": 3
   },
   "file_extension": ".py",
   "mimetype": "text/x-python",
   "name": "python",
   "nbconvert_exporter": "python",
   "pygments_lexer": "ipython3",
   "version": "3.11.5"
  }
 },
 "nbformat": 4,
 "nbformat_minor": 5
}
